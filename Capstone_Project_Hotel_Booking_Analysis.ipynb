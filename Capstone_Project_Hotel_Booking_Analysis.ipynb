{
  "nbformat": 4,
  "nbformat_minor": 0,
  "metadata": {
    "colab": {
      "private_outputs": true,
      "provenance": [],
      "include_colab_link": true
    },
    "kernelspec": {
      "name": "python3",
      "display_name": "Python 3"
    },
    "language_info": {
      "name": "python"
    }
  },
  "cells": [
    {
      "cell_type": "markdown",
      "metadata": {
        "id": "view-in-github",
        "colab_type": "text"
      },
      "source": [
        "<a href=\"https://colab.research.google.com/github/mohammadanas7777/EDA-Exploratory-Data-Analysis/blob/main/Capstone_Project_Hotel_Booking_Analysis.ipynb\" target=\"_parent\"><img src=\"https://colab.research.google.com/assets/colab-badge.svg\" alt=\"Open In Colab\"/></a>"
      ]
    },
    {
      "cell_type": "markdown",
      "source": [
        "# **Project Name**    -\n",
        "\n"
      ],
      "metadata": {
        "id": "vncDsAP0Gaoa"
      }
    },
    {
      "cell_type": "markdown",
      "source": [
        "##### **Project Type**    - EDA\n",
        "##### **Contribution**    - Individual"
      ],
      "metadata": {
        "id": "beRrZCGUAJYm"
      }
    },
    {
      "cell_type": "markdown",
      "source": [
        "# **Project Summary -**"
      ],
      "metadata": {
        "id": "FJNUwmbgGyua"
      }
    },
    {
      "cell_type": "markdown",
      "source": [
        "This project aims to analyze and predict sales for a retail store. By leveraging historical sales data, external factors like holidays and promotions, and advanced machine learning techniques, we aim to build a robust sales forecasting model. This will enable the store to optimize inventory management, staffing, and marketing strategies, ultimately leading to increased profitability.\n"
      ],
      "metadata": {
        "id": "F6v_1wHtG2nS"
      }
    },
    {
      "cell_type": "markdown",
      "source": [
        "# **GitHub Link -**"
      ],
      "metadata": {
        "id": "w6K7xa23Elo4"
      }
    },
    {
      "cell_type": "markdown",
      "source": [
        "https://github.com/mohammadanas7777/EDA-Exploratory-Data-Analysis"
      ],
      "metadata": {
        "id": "h1o69JH3Eqqn"
      }
    },
    {
      "cell_type": "markdown",
      "source": [
        "# **Problem Statement**\n"
      ],
      "metadata": {
        "id": "yQaldy8SH6Dl"
      }
    },
    {
      "cell_type": "markdown",
      "source": [
        "**Write Problem Statement Here.**"
      ],
      "metadata": {
        "id": "DpeJGUA3kjGy"
      }
    },
    {
      "cell_type": "markdown",
      "source": [
        "#### **Define Your Business Objective?**"
      ],
      "metadata": {
        "id": "PH-0ReGfmX4f"
      }
    },
    {
      "cell_type": "markdown",
      "source": [
        "To analyse the trends of booking on different sectors and take informed decisions, and have a clear idea on which sectors to invest on and which sectors to improve."
      ],
      "metadata": {
        "id": "PhDvGCAqmjP1"
      }
    },
    {
      "cell_type": "markdown",
      "source": [
        "# **General Guidelines** : -  "
      ],
      "metadata": {
        "id": "mDgbUHAGgjLW"
      }
    },
    {
      "cell_type": "markdown",
      "source": [
        "1.   Well-structured, formatted, and commented code is required.\n",
        "2.   Exception Handling, Production Grade Code & Deployment Ready Code will be a plus. Those students will be awarded some additional credits.\n",
        "     \n",
        "     The additional credits will have advantages over other students during Star Student selection.\n",
        "       \n",
        "             [ Note: - Deployment Ready Code is defined as, the whole .ipynb notebook should be executable in one go\n",
        "                       without a single error logged. ]\n",
        "\n",
        "3.   Each and every logic should have proper comments.\n",
        "4. You may add as many number of charts you want. Make Sure for each and every chart the following format should be answered.\n",
        "        \n",
        "\n",
        "```\n",
        "# Chart visualization code\n",
        "```\n",
        "            \n",
        "\n",
        "*   Why did you pick the specific chart?\n",
        "*   What is/are the insight(s) found from the chart?\n",
        "* Will the gained insights help creating a positive business impact?\n",
        "Are there any insights that lead to negative growth? Justify with specific reason.\n",
        "\n",
        "5. You have to create at least 20 logical & meaningful charts having important insights.\n",
        "\n",
        "\n",
        "[ Hints : - Do the Vizualization in  a structured way while following \"UBM\" Rule.\n",
        "\n",
        "U - Univariate Analysis,\n",
        "\n",
        "B - Bivariate Analysis (Numerical - Categorical, Numerical - Numerical, Categorical - Categorical)\n",
        "\n",
        "M - Multivariate Analysis\n",
        " ]\n",
        "\n",
        "\n",
        "\n"
      ],
      "metadata": {
        "id": "ZrxVaUj-hHfC"
      }
    },
    {
      "cell_type": "markdown",
      "source": [
        "# ***Let's Begin !***"
      ],
      "metadata": {
        "id": "O_i_v8NEhb9l"
      }
    },
    {
      "cell_type": "markdown",
      "source": [
        "## ***1. Know Your Data***"
      ],
      "metadata": {
        "id": "HhfV-JJviCcP"
      }
    },
    {
      "cell_type": "markdown",
      "source": [
        "### Import Libraries"
      ],
      "metadata": {
        "id": "Y3lxredqlCYt"
      }
    },
    {
      "cell_type": "code",
      "source": [
        "# Import Libraries\n",
        "import numpy as np\n",
        "import pandas as pd\n",
        "from numpy import math\n",
        "from numpy import loadtxt\n",
        "import seaborn as sns\n",
        "import matplotlib.pyplot as plt\n",
        "%matplotlib inline\n",
        "from matplotlib import rcParams\n",
        "\n",
        "# !pip install pymysql\n",
        "# import pymysql\n",
        "# from sqlalchemy import create_engine\n",
        "# from sqlalchemy.pool import NullPool\n",
        "\n",
        "import warnings\n",
        "warnings.filterwarnings('ignore')"
      ],
      "metadata": {
        "id": "M8Vqi-pPk-HR"
      },
      "execution_count": null,
      "outputs": []
    },
    {
      "cell_type": "markdown",
      "source": [
        "### Dataset Loading"
      ],
      "metadata": {
        "id": "3RnN4peoiCZX"
      }
    },
    {
      "cell_type": "code",
      "source": [
        "# Load Dataset\n",
        "from google.colab import drive\n",
        "drive.mount('/content/drive')\n",
        "filepath = '/content/drive/MyDrive/Colab Notebooks/Capstone Projects/Hotel Bookings.csv'\n",
        "hotel_bookings_df = pd.read_csv(filepath)\n",
        "hotel_df = hotel_bookings_df.copy()"
      ],
      "metadata": {
        "id": "4CkvbW_SlZ_R"
      },
      "execution_count": null,
      "outputs": []
    },
    {
      "cell_type": "markdown",
      "source": [
        "### Dataset First View"
      ],
      "metadata": {
        "id": "x71ZqKXriCWQ"
      }
    },
    {
      "cell_type": "code",
      "source": [
        "# Dataset First Look\n",
        "hotel_df.head(10)"
      ],
      "metadata": {
        "id": "LWNFOSvLl09H"
      },
      "execution_count": null,
      "outputs": []
    },
    {
      "cell_type": "markdown",
      "source": [
        "### Dataset Rows & Columns count"
      ],
      "metadata": {
        "id": "7hBIi_osiCS2"
      }
    },
    {
      "cell_type": "code",
      "source": [
        "# Dataset Rows & Columns count\n",
        "hotel_df.shape"
      ],
      "metadata": {
        "id": "Kllu7SJgmLij"
      },
      "execution_count": null,
      "outputs": []
    },
    {
      "cell_type": "markdown",
      "source": [
        "### Dataset Information"
      ],
      "metadata": {
        "id": "JlHwYmJAmNHm"
      }
    },
    {
      "cell_type": "code",
      "source": [
        "# Dataset Info\n",
        "hotel_df.info()"
      ],
      "metadata": {
        "id": "e9hRXRi6meOf"
      },
      "execution_count": null,
      "outputs": []
    },
    {
      "cell_type": "markdown",
      "source": [
        "#### Duplicate Values"
      ],
      "metadata": {
        "id": "35m5QtbWiB9F"
      }
    },
    {
      "cell_type": "code",
      "source": [
        "# Dataset Duplicate Value Count\n",
        "no_of_duplicate_values = len(hotel_df[hotel_df.duplicated()])\n",
        "print(\"No. of duplicate values in the dataset is\", no_of_duplicate_values)"
      ],
      "metadata": {
        "id": "1sLdpKYkmox0"
      },
      "execution_count": null,
      "outputs": []
    },
    {
      "cell_type": "markdown",
      "source": [
        "#### Missing Values/Null Values"
      ],
      "metadata": {
        "id": "PoPl-ycgm1ru"
      }
    },
    {
      "cell_type": "code",
      "source": [
        "# Missing Values/Null Values Count\n",
        "print(hotel_df.isnull().sum())"
      ],
      "metadata": {
        "id": "GgHWkxvamxVg"
      },
      "execution_count": null,
      "outputs": []
    },
    {
      "cell_type": "code",
      "source": [
        "# Visualizing the missing values\n",
        "# Checking Null Value by plotting Heatmap\n",
        "sns.heatmap(hotel_df.isnull())"
      ],
      "metadata": {
        "id": "3q5wnI3om9sJ"
      },
      "execution_count": null,
      "outputs": []
    },
    {
      "cell_type": "markdown",
      "source": [
        "\n",
        "**Choice of Heatmap -**\n",
        "I selected a heatmap to visualize missing values because it offers a clear and intuitive representation of their presence and distribution within the dataset. Heatmaps enable quick identification of patterns and clusters of missing data across different columns and rows, providing valuable insights into the dataset's completeness.\n",
        "\n",
        "**Insights from the Chart -**\n",
        "The heatmap highlights the location of missing values, with white cells indicating missing data and black cells representing non-missing data. By analyzing the heatmap, we can determine which columns and rows have the highest concentration of missing values and identify any potential patterns or correlations between missing values in different columns."
      ],
      "metadata": {
        "id": "uPJqRuX5PSsC"
      }
    },
    {
      "cell_type": "markdown",
      "source": [
        "### What did you know about your dataset?"
      ],
      "metadata": {
        "id": "H0kj-8xxnORC"
      }
    },
    {
      "cell_type": "markdown",
      "source": [
        "**Number of Rows:** The dataset contains **119,390** entries or rows.\n",
        "\n",
        "**Number of Columns:** There are **32** columns in the dataset, each representing different attributes or features related to hotel bookings.\n",
        "\n",
        "**Data Types:** The dataset contains a mix of data types, including integers (int64), floats (float64), and objects (object). This suggests that the dataset includes both numerical and categorical variables.\n",
        "\n",
        "**Duplicates Rows:**\n",
        "The dataset contains **31,994** duplicate entries, indicating potential replication of information across various records.\n",
        "\n",
        "**Missing Values:** While the majority of columns contain complete data, several columns exhibit notable numbers of missing values. Specifically, the **company** column shows a substantial count of **112,593** missing values, while the **agent** column has **16,340** missing values. Additionally, the **country** and **children** columns contain **488** and **4** missing values, respectively."
      ],
      "metadata": {
        "id": "gfoNAAC-nUe_"
      }
    },
    {
      "cell_type": "markdown",
      "source": [
        "## ***2. Understanding Your Variables***"
      ],
      "metadata": {
        "id": "nA9Y7ga8ng1Z"
      }
    },
    {
      "cell_type": "code",
      "source": [
        "# Dataset Columns\n",
        "hotel_df.columns"
      ],
      "metadata": {
        "id": "j7xfkqrt5Ag5"
      },
      "execution_count": null,
      "outputs": []
    },
    {
      "cell_type": "code",
      "source": [
        "# Dataset Describe\n",
        "hotel_df.describe(include = 'all')"
      ],
      "metadata": {
        "id": "DnOaZdaE5Q5t"
      },
      "execution_count": null,
      "outputs": []
    },
    {
      "cell_type": "markdown",
      "source": [
        "### Variables Description"
      ],
      "metadata": {
        "id": "PBTbrJXOngz2"
      }
    },
    {
      "cell_type": "markdown",
      "source": [
        "**hotel:** Type of hotel (e.g., resort hotel, city hotel).\n",
        "\n",
        "**is_canceled:** Binary indicator of whether the booking was canceled (1 = canceled, 0 = not canceled).\n",
        "\n",
        "**lead_time:** Number of days between booking date and arrival date.\n",
        "\n",
        "**arrival_date_year:** Year of arrival date.\n",
        "\n",
        "**arrival_date_month:** Month of arrival date.\n",
        "\n",
        "**arrival_date_week_number:** Week number of arrival date.\n",
        "\n",
        "**arrival_date_day_of_month:** Day of the month of arrival date.\n",
        "\n",
        "**stays_in_weekend_nights:** Number of weekend nights stayed.\n",
        "\n",
        "**stays_in_week_nights:** Number of week nights stayed.\n",
        "\n",
        "**adults:** Number of adults included in the booking.\n",
        "\n",
        "**children:** Number of children included in the booking.\n",
        "\n",
        "**babies:** Number of babies included in the booking.\n",
        "\n",
        "**meal:** Type of meal booked (e.g., Undefined/SC – no meal package; BB – Bed & Breakfast).\n",
        "\n",
        "**country:** Country of origin.\n",
        "\n",
        "**market_segment:** Market segment designation (e.g., Online Travel Agents, Offline Travel Agents).\n",
        "\n",
        "**distribution_channel:** Booking distribution channel (e.g., Direct, Corporate)\n",
        "is_repeated_guest: Binary indicator of whether the guest is a repeated guest (1 = yes, 0 = no).\n",
        "\n",
        "**previous_cancellations:** Number of previous cancellations by the guest.\n",
        "\n",
        "**previous_bookings_not_canceled:** Number of previous bookings not canceled by the guest.\n",
        "\n",
        "**reserved_room_type:** Code of room type reserved.\n",
        "\n",
        "**assigned_room_type:** Code of room type assigned.\n",
        "\n",
        "**booking_changes:** Number of changes made to the booking\n",
        "deposit_type: Type of deposit made for the booking (e.g., No Deposit, Non Refund, Refundable).\n",
        "\n",
        "**agent:** ID of the travel agency that made the booking.\n",
        "\n",
        "**company:** ID of the company/entity that made the booking.\n",
        "\n",
        "**days_in_waiting_list:** Number of days the booking was on the waiting list before confirmed.\n",
        "\n",
        "**customer_type:** Type of booking customer (e.g., Transient, Contract, Group).\n",
        "\n",
        "**adr:** Average Daily Rate (average rental income per paid occupied room).\n",
        "\n",
        "**required_car_parking_spaces**: Number of car parking spaces required by the guest.\n",
        "\n",
        "**total_of_special_requests:** Number of special requests made by the guest.\n",
        "\n",
        "**reservation_status:** Reservation status (e.g., Canceled, Check-Out).\n",
        "\n",
        "**reservation_status_date:** Date at which the reservation status was last updated."
      ],
      "metadata": {
        "id": "aJV4KIxSnxay"
      }
    },
    {
      "cell_type": "markdown",
      "source": [
        "### Check Unique Values for each variable."
      ],
      "metadata": {
        "id": "u3PMJOP6ngxN"
      }
    },
    {
      "cell_type": "code",
      "source": [
        "# Check Unique Values for each variable.\n",
        "for i in hotel_df.columns.tolist():\n",
        "  print(\"No. of unique values in\", i, \"is\", hotel_df[i].nunique(),\".\")"
      ],
      "metadata": {
        "id": "zms12Yq5n-jE"
      },
      "execution_count": null,
      "outputs": []
    },
    {
      "cell_type": "markdown",
      "source": [
        "## 3. ***Data Wrangling***"
      ],
      "metadata": {
        "id": "dauF4eBmngu3"
      }
    },
    {
      "cell_type": "markdown",
      "source": [
        "### Data Wrangling Code"
      ],
      "metadata": {
        "id": "bKJF3rekwFvQ"
      }
    },
    {
      "cell_type": "code",
      "source": [
        "hotel_df.drop_duplicates(inplace = True)"
      ],
      "metadata": {
        "id": "ZpjUWb6-Qyk2"
      },
      "execution_count": null,
      "outputs": []
    },
    {
      "cell_type": "code",
      "source": [
        "# Dealing with missing values.\n",
        "# Dropping Company column because it contains too many null value.\n",
        "hotel_df = hotel_df.drop('company', axis = 1)"
      ],
      "metadata": {
        "id": "gCKFt001Q90X"
      },
      "execution_count": null,
      "outputs": []
    },
    {
      "cell_type": "code",
      "source": [
        "hotel_df.head()"
      ],
      "metadata": {
        "id": "5SbCu0VlXVFg"
      },
      "execution_count": null,
      "outputs": []
    },
    {
      "cell_type": "code",
      "source": [
        "# Drop rows with missing values in the 'children' column since it is very few it make sense.\n",
        "hotel_df.dropna(subset=['children'], inplace=True)"
      ],
      "metadata": {
        "id": "yA4-zpHNRnhn"
      },
      "execution_count": null,
      "outputs": []
    },
    {
      "cell_type": "code",
      "source": [
        "# Drop rows with missing values in the 'country' column with 'NA'\n",
        "hotel_df['country'] = hotel_df['country'].fillna('NA')"
      ],
      "metadata": {
        "id": "nr8gPyINZVeu"
      },
      "execution_count": null,
      "outputs": []
    },
    {
      "cell_type": "code",
      "source": [
        "# Fill missing values in the 'agent' column with 0.0 since agent column contains float values\n",
        "hotel_df['agent'] = hotel_df['agent'].fillna(0.0)\n",
        "hotel_df['agent'] = hotel_df['agent'].astype('float64')"
      ],
      "metadata": {
        "id": "UMafZvNDTSyr"
      },
      "execution_count": null,
      "outputs": []
    },
    {
      "cell_type": "code",
      "source": [
        "# Calculate total stay by summing up the number of weekend nights and week nights\n",
        "hotel_df['Total_stay'] = hotel_df['stays_in_weekend_nights'] + hotel_df['stays_in_week_nights']"
      ],
      "metadata": {
        "id": "InexqGGnR2jp"
      },
      "execution_count": null,
      "outputs": []
    },
    {
      "cell_type": "code",
      "source": [
        "# Calculate total number of kids by summing up the number of babies and children\n",
        "hotel_df['Total_kids'] = hotel_df['babies'] + hotel_df['children']"
      ],
      "metadata": {
        "id": "GaCAcKh6R-0A"
      },
      "execution_count": null,
      "outputs": []
    },
    {
      "cell_type": "code",
      "source": [
        "# Calculate total cost by multiplying the average daily rate (adr) by the total stay\n",
        "hotel_df['total_cost'] = hotel_df['adr']*hotel_df['Total_stay']"
      ],
      "metadata": {
        "id": "V7Hn9ANnSWWf"
      },
      "execution_count": null,
      "outputs": []
    },
    {
      "cell_type": "code",
      "source": [
        "# Create a new date cloumn.\n",
        "hotel_df['arrival_date'] = pd.to_datetime(hotel_df['arrival_date_year'].astype(str) + '-' + hotel_df['arrival_date_month'] + '-' + hotel_df['arrival_date_day_of_month'].astype(str))"
      ],
      "metadata": {
        "id": "byfKmCj4SsUO"
      },
      "execution_count": null,
      "outputs": []
    },
    {
      "cell_type": "code",
      "source": [
        "hotel_df"
      ],
      "metadata": {
        "collapsed": true,
        "id": "NRzil6r6S33U"
      },
      "execution_count": null,
      "outputs": []
    },
    {
      "cell_type": "code",
      "source": [
        "hotel_df.describe()"
      ],
      "metadata": {
        "collapsed": true,
        "id": "wXDzZRZYS7s0"
      },
      "execution_count": null,
      "outputs": []
    },
    {
      "cell_type": "code",
      "source": [
        "hotel_df.info()"
      ],
      "metadata": {
        "id": "b-A5D7xuZz1-"
      },
      "execution_count": null,
      "outputs": []
    },
    {
      "cell_type": "code",
      "source": [
        "# Get a list of column names in the hotel_booking DataFrame\n",
        "hotel_df.columns.to_list()"
      ],
      "metadata": {
        "collapsed": true,
        "id": "zYSnEDgAW2-J"
      },
      "execution_count": null,
      "outputs": []
    },
    {
      "cell_type": "markdown",
      "source": [
        "### What all manipulations have you done and insights you found?"
      ],
      "metadata": {
        "id": "MSa1f5Uengrz"
      }
    },
    {
      "cell_type": "markdown",
      "source": [
        "Removed duplicate rows from the hotel_df DataFrame.\n",
        "\n",
        "Dropped the 'Company' column due to a high number of null values.\n",
        "\n",
        "Dropped rows with missing values in the 'children' column.\n",
        "\n",
        "Filled missing values in the 'country' column with 'NA' to handle missing categorical data.\n",
        "\n",
        "Filled missing values in the 'agent' column with 0.0 to represent as it might shows that the customer not used an agent for booking.\n",
        "\n",
        "Created a column named total stay by summing up the number of weekend nights and week nights columns.\n",
        "\n",
        "Created a column named total number of kids by summing up the number of babies and children.\n",
        "\n",
        "Created a column named total cost by multiplying the average daily rate (adr) by the total stay.\n",
        "\n",
        "Created a column named arrival date by concat and converting arrival_date_year, arrival_date_month and arrival_date_day_of_month.\n"
      ],
      "metadata": {
        "id": "LbyXE7I1olp8"
      }
    },
    {
      "cell_type": "markdown",
      "source": [
        "## ***4. Data Vizualization, Storytelling & Experimenting with charts : Understand the relationships between variables***"
      ],
      "metadata": {
        "id": "GF8Ens_Soomf"
      }
    },
    {
      "cell_type": "markdown",
      "source": [
        "#### Chart - 1"
      ],
      "metadata": {
        "id": "0wOQAZs5pc--"
      }
    },
    {
      "cell_type": "markdown",
      "source": [
        "**Booking percentage based on hotel types**"
      ],
      "metadata": {
        "id": "x4b8yumr29sS"
      }
    },
    {
      "cell_type": "code",
      "source": [
        "# Chart - 1 visualization code\n",
        "hotel_types = hotel_df['hotel'].value_counts()\n",
        "hotel_types\n",
        "plt.pie(hotel_types, labels = hotel_types.index, autopct='%1.1f%%')\n",
        "plt.title('Hotel Types')\n",
        "plt.show()"
      ],
      "metadata": {
        "id": "7v_ESjsspbW7"
      },
      "execution_count": null,
      "outputs": []
    },
    {
      "cell_type": "markdown",
      "source": [
        "##### 1. Why did you pick the specific chart?"
      ],
      "metadata": {
        "id": "K5QZ13OEpz2H"
      }
    },
    {
      "cell_type": "markdown",
      "source": [
        "A pie chart is a suitable choice for visualizing the proportion of bookings for each hotel type because it effectively displays the relative sizes of different categories within a whole. This allows for a quick and intuitive understanding of the distribution of bookings across hotel types."
      ],
      "metadata": {
        "id": "XESiWehPqBRc"
      }
    },
    {
      "cell_type": "markdown",
      "source": [
        "##### 2. What is/are the insight(s) found from the chart?"
      ],
      "metadata": {
        "id": "lQ7QKXXCp7Bj"
      }
    },
    {
      "cell_type": "markdown",
      "source": [
        "The pie chart reveals that City Hotels account for the majority of bookings, followed by Resort Hotels. This suggests that City Hotels are more popular among customers compared to Resort Hotels."
      ],
      "metadata": {
        "id": "C_j1G7yiqdRP"
      }
    },
    {
      "cell_type": "markdown",
      "source": [
        "##### 3. Will the gained insights help creating a positive business impact?\n",
        "Are there any insights that lead to negative growth? Justify with specific reason."
      ],
      "metadata": {
        "id": "448CDAPjqfQr"
      }
    },
    {
      "cell_type": "markdown",
      "source": [
        "There are no direct insights from this chart that suggest negative growth. However, it's important to consider the reasons behind the lower demand for Resort Hotels and explore ways to improve their appeal and attract more bookings. This could involve enhancing amenities, offering special packages, or targeting specific customer segments.\n"
      ],
      "metadata": {
        "id": "3cspy4FjqxJW"
      }
    },
    {
      "cell_type": "markdown",
      "source": [
        "#### Chart - 2"
      ],
      "metadata": {
        "id": "KSlN3yHqYklG"
      }
    },
    {
      "cell_type": "markdown",
      "source": [
        "**Booking percentage based on customer type**"
      ],
      "metadata": {
        "id": "U1Q312Su3L0M"
      }
    },
    {
      "cell_type": "code",
      "source": [
        "# Chart - 2 visualization code\n",
        "hotel_customer_type = hotel_df['customer_type'].value_counts()\n",
        "hotel_customer_type\n",
        "plt.pie(hotel_customer_type, labels = hotel_customer_type.index, autopct='%1.1f%%')\n",
        "plt.title('Customer Type')\n",
        "plt.show()"
      ],
      "metadata": {
        "id": "R4YgtaqtYklH"
      },
      "execution_count": null,
      "outputs": []
    },
    {
      "cell_type": "markdown",
      "source": [
        "##### 1. Why did you pick the specific chart?"
      ],
      "metadata": {
        "id": "t6dVpIINYklI"
      }
    },
    {
      "cell_type": "markdown",
      "source": [
        "A pie chart is chosen to represent the distribution of customer types because it effectively illustrates the proportion of each customer type within the total bookings. This allows for a clear visual comparison of the relative sizes of different customer segments."
      ],
      "metadata": {
        "id": "5aaW0BYyYklI"
      }
    },
    {
      "cell_type": "markdown",
      "source": [
        "##### 2. What is/are the insight(s) found from the chart?"
      ],
      "metadata": {
        "id": "ijmpgYnKYklI"
      }
    },
    {
      "cell_type": "markdown",
      "source": [
        "The pie chart reveals that Transient customers constitute the largest segment, followed by Transient-Party customers. This indicates that a significant portion of bookings comes from individual travelers or small groups who are not part of larger contracts or groups."
      ],
      "metadata": {
        "id": "PSx9atu2YklI"
      }
    },
    {
      "cell_type": "markdown",
      "source": [
        "##### 3. Will the gained insights help creating a positive business impact?\n",
        "Are there any insights that lead to negative growth? Justify with specific reason."
      ],
      "metadata": {
        "id": "-JiQyfWJYklI"
      }
    },
    {
      "cell_type": "markdown",
      "source": [
        "While the chart doesn't directly indicate negative growth, it highlights the importance of diversifying customer acquisition strategies. Relying heavily on Transient customers might make the business vulnerable to fluctuations in individual travel demand. Exploring ways to attract more Contract and Group bookings could provide a more stable revenue stream and mitigate potential risks associated with overdependence on a single customer segment."
      ],
      "metadata": {
        "id": "BcBbebzrYklV"
      }
    },
    {
      "cell_type": "markdown",
      "source": [
        "#### Chart - 3"
      ],
      "metadata": {
        "id": "EM7whBJCYoAo"
      }
    },
    {
      "cell_type": "markdown",
      "source": [
        "**Top 10 countries with higher number of bookings**"
      ],
      "metadata": {
        "id": "ibbcEJRG3VSb"
      }
    },
    {
      "cell_type": "code",
      "source": [
        "# Chart - 3 visualization code\n",
        "top_country = hotel_df['country'].value_counts().reset_index()\n",
        "top_country.columns = ['country', 'booking_count']\n",
        "top_country = top_country.head(10)\n",
        "plt.figure(figsize=(6, 4))  # Adjust figsize as needed\n",
        "plt.bar('country', 'booking_count', data= top_country, color='skyblue')\n",
        "plt.title('Booking Counts of top 10 Countries')\n",
        "plt.xlabel('Country')\n",
        "plt.ylabel('Booking Count')\n",
        "plt.xticks(rotation=90)  # Rotate x-axis labels for better readability\n",
        "plt.tight_layout()  # Adjust layout to prevent clipping of labels\n",
        "plt.show()"
      ],
      "metadata": {
        "id": "t6GMdE67YoAp"
      },
      "execution_count": null,
      "outputs": []
    },
    {
      "cell_type": "markdown",
      "source": [
        "##### 1. Why did you pick the specific chart?"
      ],
      "metadata": {
        "id": "fge-S5ZAYoAp"
      }
    },
    {
      "cell_type": "markdown",
      "source": [
        "A bar chart is an effective choice for visualizing the top 10 countries with higher bookings because it allows for a clear comparison of the booking counts across different countries. The bars' heights directly correspond to the number of bookings, making it easy to identify the countries with the highest and lowest booking volumes."
      ],
      "metadata": {
        "id": "5dBItgRVYoAp"
      }
    },
    {
      "cell_type": "markdown",
      "source": [
        "##### 2. What is/are the insight(s) found from the chart?"
      ],
      "metadata": {
        "id": "85gYPyotYoAp"
      }
    },
    {
      "cell_type": "markdown",
      "source": [
        "The bar chart reveals that Portugal (PRT) has the highest number of bookings, followed by Great Britain (GBR) and France (FRA). This suggests that these countries are the primary sources of hotel bookings.\n"
      ],
      "metadata": {
        "id": "4jstXR6OYoAp"
      }
    },
    {
      "cell_type": "markdown",
      "source": [
        "##### 3. Will the gained insights help creating a positive business impact?\n",
        "Are there any insights that lead to negative growth? Justify with specific reason."
      ],
      "metadata": {
        "id": "RoGjAbkUYoAp"
      }
    },
    {
      "cell_type": "markdown",
      "source": [
        "Yes, understanding the top contributing countries can help hotels tailor their marketing and service offerings to better cater to the preferences and needs of guests from these regions. This can lead to increased customer satisfaction and loyalty, ultimately driving positive business impact.\n",
        "\n",
        "While the chart doesn't directly indicate negative growth, it highlights the importance of diversifying marketing efforts beyond the top contributing countries. Relying heavily on a few markets might make the business vulnerable to fluctuations in travel demand from those specific regions. Exploring ways to attract bookings from other countries could provide a more stable revenue stream and mitigate potential risks associated with overdependence on a limited number of markets.\n"
      ],
      "metadata": {
        "id": "zfJ8IqMcYoAp"
      }
    },
    {
      "cell_type": "markdown",
      "source": [
        "#### Chart - 4"
      ],
      "metadata": {
        "id": "4Of9eVA-YrdM"
      }
    },
    {
      "cell_type": "markdown",
      "source": [
        "**Number of cancellations per month each year**"
      ],
      "metadata": {
        "id": "XQpoKqBX3ldC"
      }
    },
    {
      "cell_type": "code",
      "source": [
        "# Chart - 4 visualization code\n",
        "cancel_by_year = hotel_df.pivot_table(index='arrival_date_month', columns='arrival_date_year', values='is_canceled', aggfunc='sum')\n",
        "print(cancel_by_year)\n",
        "sns.heatmap(cancel_by_year, cmap='Blues', annot = True, fmt = '.0f')\n",
        "plt.title('Cancellation by Month and Year')\n",
        "plt.xlabel('Year')\n",
        "plt.ylabel('Month')\n",
        "plt.show()"
      ],
      "metadata": {
        "id": "irlUoxc8YrdO"
      },
      "execution_count": null,
      "outputs": []
    },
    {
      "cell_type": "markdown",
      "source": [
        "##### 1. Why did you pick the specific chart?"
      ],
      "metadata": {
        "id": "iky9q4vBYrdO"
      }
    },
    {
      "cell_type": "markdown",
      "source": [
        "A heatmap is chosen to visualize the number of cancellations per month each year because it effectively displays the distribution of cancellations across different months and years in a concise and intuitive manner. The color intensity of each cell represents the number of cancellations, allowing for quick identification of patterns and trends in cancellation behavior.\n"
      ],
      "metadata": {
        "id": "aJRCwT6DYrdO"
      }
    },
    {
      "cell_type": "markdown",
      "source": [
        "##### 2. What is/are the insight(s) found from the chart?"
      ],
      "metadata": {
        "id": "F6T5p64dYrdO"
      }
    },
    {
      "cell_type": "markdown",
      "source": [
        "The heatmap reveals that cancellations tend to be higher during peak travel seasons, such as summer months (June, July, August) and holiday periods (December). Additionally, there might be year-specific variations in cancellation patterns, potentially influenced by external factors like economic conditions or events."
      ],
      "metadata": {
        "id": "Xx8WAJvtYrdO"
      }
    },
    {
      "cell_type": "markdown",
      "source": [
        "##### 3. Will the gained insights help creating a positive business impact?\n",
        "Are there any insights that lead to negative growth? Justify with specific reason."
      ],
      "metadata": {
        "id": "y-Ehk30pYrdP"
      }
    },
    {
      "cell_type": "markdown",
      "source": [
        "Yes, the insights gained from this chart can help in creating a positive business impact by enabling hotels to anticipate and manage cancellations more effectively. By understanding the seasonal and yearly trends in cancellations, hotels can implement strategies like adjusting pricing, offering flexible cancellation policies, or overbooking to mitigate the impact of cancellations on revenue.\n",
        "\n",
        "There are no direct insights from this chart that suggest negative growth. However, it highlights the importance of proactively addressing cancellation trends to avoid potential revenue loss and maintain customer satisfaction."
      ],
      "metadata": {
        "id": "jLNxxz7MYrdP"
      }
    },
    {
      "cell_type": "markdown",
      "source": [
        "#### Chart - 5"
      ],
      "metadata": {
        "id": "bamQiAODYuh1"
      }
    },
    {
      "cell_type": "markdown",
      "source": [
        "**Number of bookings by month and year**"
      ],
      "metadata": {
        "id": "PQ646MmV3yYZ"
      }
    },
    {
      "cell_type": "code",
      "source": [
        "# Chart - 5 visualization code\n",
        "hotel_df.groupby(['arrival_date_year', 'arrival_date_month']).size()\n",
        "\n",
        "plt.figure(figsize=(12, 6))\n",
        "sns.countplot(data=hotel_df, x='arrival_date_month', hue='arrival_date_year', palette='viridis')\n",
        "plt.title('Distribution of Booking by Month and Year')\n",
        "plt.xlabel('Month')\n",
        "plt.ylabel('Number of Booking')\n",
        "plt.legend(title='Year', loc=(1, 0.81))\n",
        "plt.xticks(rotation=45)\n",
        "plt.tight_layout()\n",
        "plt.grid(axis='y', linestyle='--', alpha=0.5)\n",
        "plt.show()"
      ],
      "metadata": {
        "id": "TIJwrbroYuh3"
      },
      "execution_count": null,
      "outputs": []
    },
    {
      "cell_type": "markdown",
      "source": [
        "##### 1. Why did you pick the specific chart?"
      ],
      "metadata": {
        "id": "QHF8YVU7Yuh3"
      }
    },
    {
      "cell_type": "markdown",
      "source": [
        "A countplot is chosen to visualize the number of bookings by month and year because it effectively displays the distribution of bookings across different months and years in a clear and concise manner. The height of each bar represents the number of bookings for a specific month and year, allowing for quick comparison and identification of trends.\n"
      ],
      "metadata": {
        "id": "dcxuIMRPYuh3"
      }
    },
    {
      "cell_type": "markdown",
      "source": [
        "##### 2. What is/are the insight(s) found from the chart?"
      ],
      "metadata": {
        "id": "GwzvFGzlYuh3"
      }
    },
    {
      "cell_type": "markdown",
      "source": [
        "The countplot reveals that bookings tend to be higher during peak travel seasons, such as summer months (June, July, August) and holiday periods (December). Additionally, there might be year-specific variations in booking patterns, potentially influenced by external factors like economic conditions or events."
      ],
      "metadata": {
        "id": "uyqkiB8YYuh3"
      }
    },
    {
      "cell_type": "markdown",
      "source": [
        "##### 3. Will the gained insights help creating a positive business impact?\n",
        "Are there any insights that lead to negative growth? Justify with specific reason."
      ],
      "metadata": {
        "id": "qYpmQ266Yuh3"
      }
    },
    {
      "cell_type": "markdown",
      "source": [
        " Yes, the insights gained from this chart can help in creating a positive business impact by enabling hotels to anticipate and manage demand more effectively. By understanding the seasonal and yearly trends in bookings, hotels can implement strategies like adjusting pricing, offering promotions, or managing inventory to optimize revenue and occupancy rates.\n",
        "\n",
        "There are no direct insights from this chart that suggest negative growth. However, it highlights the importance of proactively addressing booking trends to capitalize on peak seasons and mitigate potential revenue loss during slower periods.\n"
      ],
      "metadata": {
        "id": "_WtzZ_hCYuh4"
      }
    },
    {
      "cell_type": "markdown",
      "source": [
        "#### Chart - 6"
      ],
      "metadata": {
        "id": "OH-pJp9IphqM"
      }
    },
    {
      "cell_type": "markdown",
      "source": [
        "**Number of total arrivals on each day of the week**"
      ],
      "metadata": {
        "id": "Vnq6FMHe38L_"
      }
    },
    {
      "cell_type": "code",
      "source": [
        "# Chart - 6 visualization code\n",
        "# Count the arrival of customers for each day of the week based on arrival dates\n",
        "arrival_day_count = hotel_df['arrival_date'].dt.day_name().value_counts()\n",
        "arrival_day_count"
      ],
      "metadata": {
        "id": "kuRf4wtuphqN"
      },
      "execution_count": null,
      "outputs": []
    },
    {
      "cell_type": "code",
      "source": [
        "plt.figure(figsize=(8, 6))\n",
        "plt.barh(arrival_day_count.index, arrival_day_count.values)\n",
        "plt.title('Total arrivals per day of the week')\n",
        "plt.ylabel('Day of the week')\n",
        "plt.xlabel('Number of arrival')\n",
        "plt.grid(axis='x', linestyle='--', alpha=0.5)\n",
        "plt.gca().invert_yaxis()\n",
        "plt.show()"
      ],
      "metadata": {
        "id": "RlfbWi3Trlcc"
      },
      "execution_count": null,
      "outputs": []
    },
    {
      "cell_type": "markdown",
      "source": [
        "##### 1. Why did you pick the specific chart?"
      ],
      "metadata": {
        "id": "bbFf2-_FphqN"
      }
    },
    {
      "cell_type": "markdown",
      "source": [
        "A horizontal bar chart is chosen to visualize the number of total arrivals on each day of the week because it allows for a clear comparison of arrival counts across different days. The horizontal orientation provides ample space for displaying the day names along the y-axis, enhancing readability.\n",
        "\n"
      ],
      "metadata": {
        "id": "loh7H2nzphqN"
      }
    },
    {
      "cell_type": "markdown",
      "source": [
        "##### 2. What is/are the insight(s) found from the chart?"
      ],
      "metadata": {
        "id": "_ouA3fa0phqN"
      }
    },
    {
      "cell_type": "markdown",
      "source": [
        "\n",
        "The chart reveals that Friday is the most popular day for arrivals, followed by Thursday and Monday. This suggests that a significant portion of guests prefer to check in towards the end of the week or at the beginning of the week.\n"
      ],
      "metadata": {
        "id": "VECbqPI7phqN"
      }
    },
    {
      "cell_type": "markdown",
      "source": [
        "##### 3. Will the gained insights help creating a positive business impact?\n",
        "Are there any insights that lead to negative growth? Justify with specific reason."
      ],
      "metadata": {
        "id": "Seke61FWphqN"
      }
    },
    {
      "cell_type": "markdown",
      "source": [
        "\n",
        "Yes, the insights gained from this chart can help in creating a positive business impact by enabling hotels to optimize staffing levels, resource allocation, and service offerings based on arrival patterns. By understanding the peak arrival days, hotels can ensure adequate staffing and resources to handle increased check-ins and provide a seamless guest experience.\n",
        "\n",
        "There are no direct insights from this chart that suggest negative growth. However, it highlights the importance of efficiently managing resources and staffing levels to avoid potential bottlenecks or service delays on peak arrival days, which could negatively impact customer satisfaction."
      ],
      "metadata": {
        "id": "DW4_bGpfphqN"
      }
    },
    {
      "cell_type": "markdown",
      "source": [
        "#### Chart - 7"
      ],
      "metadata": {
        "id": "PIIx-8_IphqN"
      }
    },
    {
      "cell_type": "markdown",
      "source": [
        "**Analyzing the variation of average daily rate based on hotel type**"
      ],
      "metadata": {
        "id": "5XwcB1-h4FYA"
      }
    },
    {
      "cell_type": "code",
      "source": [
        "# Let's first check for the outliers in adr values\n",
        "plt.figure(figsize=(6, 4))\n",
        "sns.scatterplot(x='hotel', y='adr', data=hotel_df)\n",
        "plt.title('ADR Distribution for Each Hotel Type')\n",
        "plt.xlabel('Hotel Type')\n",
        "plt.ylabel('Average Daily Rate (ADR)')\n",
        "plt.show()"
      ],
      "metadata": {
        "id": "MWOQcVjhtcpK"
      },
      "execution_count": null,
      "outputs": []
    },
    {
      "cell_type": "markdown",
      "source": [
        "We can see that most of the values are lying below 1000, therefore we can put a threshold of 1000 to filter out the outliers."
      ],
      "metadata": {
        "id": "3vN3MGrUtpZz"
      }
    },
    {
      "cell_type": "code",
      "source": [
        "# Chart - 7 visualization code\n",
        "# Filter the DataFrame to include ADR values between 0 and 1000\n",
        "filtered_hotel_df = hotel_df[(hotel_df['adr'] > 0) & (hotel_df['adr'] < 1000)]\n",
        "\n",
        "# Create a box plot to visualize ADR distribution for each hotel type\n",
        "plt.figure(figsize=(8, 6))\n",
        "sns.boxplot(x='hotel', y='adr', data=filtered_hotel_df)\n",
        "plt.title('ADR Distribution for Each Hotel Type')\n",
        "plt.xlabel('Hotel Type')\n",
        "plt.ylabel('Average Daily Rate (ADR)')\n",
        "plt.show()"
      ],
      "metadata": {
        "id": "lqAIGUfyphqO"
      },
      "execution_count": null,
      "outputs": []
    },
    {
      "cell_type": "markdown",
      "source": [
        "##### 1. Why did you pick the specific chart?"
      ],
      "metadata": {
        "id": "t27r6nlMphqO"
      }
    },
    {
      "cell_type": "markdown",
      "source": [
        "A box plot is chosen to analyze the variation of average daily rate (ADR) based on hotel type because it effectively displays the distribution of ADR for each hotel category, including the median, quartiles, and potential outliers. This allows for a clear comparison of the central tendency and spread of ADR across different hotel types.\n"
      ],
      "metadata": {
        "id": "iv6ro40sphqO"
      }
    },
    {
      "cell_type": "markdown",
      "source": [
        "##### 2. What is/are the insight(s) found from the chart?"
      ],
      "metadata": {
        "id": "r2jJGEOYphqO"
      }
    },
    {
      "cell_type": "markdown",
      "source": [
        "The box plot reveals that City Hotels generally have a higher median ADR compared to Resort Hotels, indicating that City Hotels tend to charge higher rates on average. Additionally, the box plot shows a wider range of ADR for City Hotels, suggesting greater variability in pricing for this category."
      ],
      "metadata": {
        "id": "Po6ZPi4hphqO"
      }
    },
    {
      "cell_type": "markdown",
      "source": [
        "##### 3. Will the gained insights help creating a positive business impact?\n",
        "Are there any insights that lead to negative growth? Justify with specific reason."
      ],
      "metadata": {
        "id": "b0JNsNcRphqO"
      }
    },
    {
      "cell_type": "markdown",
      "source": [
        "Yes, understanding the variation of ADR based on hotel type can help hotels optimize pricing strategies and tailor their services to specific customer segments. For instance, Resort Hotels might consider offering promotional packages or discounts during off-peak seasons to increase occupancy and revenue.\n",
        "\n",
        "There are no direct insights from this chart that suggest negative growth. However, it highlights the importance of understanding the competitive landscape and adjusting pricing strategies accordingly to maximize revenue and occupancy rates for each hotel type."
      ],
      "metadata": {
        "id": "xvSq8iUTphqO"
      }
    },
    {
      "cell_type": "markdown",
      "source": [
        "#### Chart - 8"
      ],
      "metadata": {
        "id": "BZR9WyysphqO"
      }
    },
    {
      "cell_type": "markdown",
      "source": [
        "**Average ADR for Each Room Type by Hotel Type**"
      ],
      "metadata": {
        "id": "am1nLFnc4gF3"
      }
    },
    {
      "cell_type": "code",
      "source": [
        "# Chart - 8 visualization code\n",
        "# Group the data by hotel type and assigned room type, and calculate the mean ADR for each group\n",
        "average_adr_by_room_type = hotel_df.groupby(['hotel', 'assigned_room_type'])['adr'].mean().reset_index()\n",
        "\n",
        "# Create a bar plot to visualize the average ADR for each room type, grouped by hotel type\n",
        "plt.figure(figsize=(8, 5))\n",
        "sns.barplot(x='assigned_room_type', y='adr', hue='hotel', data=average_adr_by_room_type)\n",
        "plt.title('Average ADR for Each Room Type by Hotel Type')\n",
        "plt.xlabel('Assigned Room Type')\n",
        "plt.ylabel('Average Daily Rate (ADR)')\n",
        "plt.xticks(rotation=45)\n",
        "plt.legend(title='Hotel Type')\n",
        "plt.tight_layout()\n",
        "plt.show()"
      ],
      "metadata": {
        "id": "TdPTWpAVphqO"
      },
      "execution_count": null,
      "outputs": []
    },
    {
      "cell_type": "markdown",
      "source": [
        "##### 1. Why did you pick the specific chart?"
      ],
      "metadata": {
        "id": "jj7wYXLtphqO"
      }
    },
    {
      "cell_type": "markdown",
      "source": [
        "I chose a bar plot to visualize the average ADR for each room type, grouped by hotel type, because it provides a clear and concise way to compare the average ADR across different room types and hotel types. The use of different colors for each hotel type enhances the visual distinction between the groups."
      ],
      "metadata": {
        "id": "Ob8u6rCTphqO"
      }
    },
    {
      "cell_type": "markdown",
      "source": [
        "##### 2. What is/are the insight(s) found from the chart?"
      ],
      "metadata": {
        "id": "eZrbJ2SmphqO"
      }
    },
    {
      "cell_type": "markdown",
      "source": [
        "The bar plot reveals that the average ADR varies significantly across different room types and hotel types. For instance, suite rooms generally command a higher ADR compared to other room types, regardless of the hotel type. Additionally, city hotels tend to have a higher average ADR compared to resort hotels for most room types."
      ],
      "metadata": {
        "id": "mZtgC_hjphqO"
      }
    },
    {
      "cell_type": "markdown",
      "source": [
        "##### 3. Will the gained insights help creating a positive business impact?\n",
        "Are there any insights that lead to negative growth? Justify with specific reason."
      ],
      "metadata": {
        "id": "rFu4xreNphqO"
      }
    },
    {
      "cell_type": "markdown",
      "source": [
        "Yes, the gained insights can help create a positive business impact by informing pricing strategies and inventory management decisions. By understanding the average ADR for different room types and hotel types, hotels can optimize their pricing to maximize revenue. Additionally, hotels can adjust their inventory allocation based on the demand for different room types to improve occupancy rates.\n",
        "\n",
        "There are no direct insights from this chart that suggest negative growth. However, it is important to note that the average ADR is just one factor that influences booking decisions. Other factors, such as seasonality, location, and amenities, also play a significant role. Therefore, hotels should consider a holistic approach when making pricing and inventory decisions.\n"
      ],
      "metadata": {
        "id": "ey_0qi68phqO"
      }
    },
    {
      "cell_type": "markdown",
      "source": [
        "#### Chart - 9"
      ],
      "metadata": {
        "id": "YJ55k-q6phqO"
      }
    },
    {
      "cell_type": "markdown",
      "source": [
        "**Average total stays for each hotel type**"
      ],
      "metadata": {
        "id": "MPWpaEi54jHG"
      }
    },
    {
      "cell_type": "code",
      "source": [
        "# Chart - 9 visualization code\n",
        "# Calculate the average total stay for each hotel type\n",
        "average_stay_by_hotel = hotel_df.groupby('hotel')['Total_stay'].mean().reset_index()\n",
        "print(average_stay_by_hotel)\n",
        "\n",
        "# Create a bar plot to visualize the average total stay for each hotel type\n",
        "plt.figure(figsize=(4, 6))\n",
        "sns.barplot(x='hotel', y='Total_stay', data=average_stay_by_hotel)\n",
        "plt.title('Average Total Stay by Hotel Type')\n",
        "plt.xlabel('Hotel Type')\n",
        "plt.ylabel('Average Total Stay (Nights)')\n",
        "plt.show()"
      ],
      "metadata": {
        "id": "B2aS4O1ophqO"
      },
      "execution_count": null,
      "outputs": []
    },
    {
      "cell_type": "markdown",
      "source": [
        "##### 1. Why did you pick the specific chart?"
      ],
      "metadata": {
        "id": "gCFgpxoyphqP"
      }
    },
    {
      "cell_type": "markdown",
      "source": [
        "A bar plot is chosen to visualize the average total stay for each hotel type because it provides a clear and concise way to compare the average length of stay across different hotel categories. The height of each bar represents the average number of nights guests stay at each hotel type, allowing for quick comparison and identification of trends.\n"
      ],
      "metadata": {
        "id": "TVxDimi2phqP"
      }
    },
    {
      "cell_type": "markdown",
      "source": [
        "##### 2. What is/are the insight(s) found from the chart?"
      ],
      "metadata": {
        "id": "OVtJsKN_phqQ"
      }
    },
    {
      "cell_type": "markdown",
      "source": [
        "The bar plot reveals that guests tend to stay longer at Resort Hotels compared to City Hotels. This suggests that Resort Hotels might cater to leisure travelers who typically plan longer vacations, while City Hotels might attract more business travelers with shorter stays.\n"
      ],
      "metadata": {
        "id": "ngGi97qjphqQ"
      }
    },
    {
      "cell_type": "markdown",
      "source": [
        "##### 3. Will the gained insights help creating a positive business impact?\n",
        "Are there any insights that lead to negative growth? Justify with specific reason."
      ],
      "metadata": {
        "id": "lssrdh5qphqQ"
      }
    },
    {
      "cell_type": "markdown",
      "source": [
        "Yes, understanding the average total stay for each hotel type can help hotels tailor their services and marketing strategies to specific customer segments. For instance, Resort Hotels can focus on offering amenities and activities that cater to longer stays, while City Hotels can emphasize convenience and efficiency for shorter stays.\n",
        "\n",
        "There are no direct insights from this chart that suggest negative growth. However, it highlights the importance of understanding the typical length of stay for each hotel type to optimize pricing, inventory management, and service offerings. Failing to cater to the specific needs of each customer segment could lead to lower occupancy rates and revenue.\n"
      ],
      "metadata": {
        "id": "tBpY5ekJphqQ"
      }
    },
    {
      "cell_type": "markdown",
      "source": [
        "#### Chart - 10"
      ],
      "metadata": {
        "id": "U2RJ9gkRphqQ"
      }
    },
    {
      "cell_type": "markdown",
      "source": [
        "**Number of bookings with kids and without kids**"
      ],
      "metadata": {
        "id": "3TSraARn4sbt"
      }
    },
    {
      "cell_type": "code",
      "source": [
        "# Chart - 10 visualization code\n",
        "# Count bookings with and without kids\n",
        "booking_with_kids = hotel_df[hotel_df['Total_kids'] > 0]['Total_kids'].count()\n",
        "booking_without_kids = hotel_df[hotel_df['Total_kids'] == 0]['Total_kids'].count()\n",
        "print('Number of booking with kids are',booking_with_kids,'and without kids are', booking_without_kids)\n",
        "print('\\n')\n",
        "# Create a bar plot\n",
        "plt.figure(figsize=(4, 6))\n",
        "plt.bar(['With Kids', 'Without Kids'], [booking_with_kids, booking_without_kids])\n",
        "plt.title('Number of Bookings With and Without Kids')\n",
        "plt.xlabel('Booking Type')\n",
        "plt.ylabel('Number of Bookings')\n",
        "plt.show()"
      ],
      "metadata": {
        "id": "GM7a4YP4phqQ"
      },
      "execution_count": null,
      "outputs": []
    },
    {
      "cell_type": "markdown",
      "source": [
        "##### 1. Why did you pick the specific chart?"
      ],
      "metadata": {
        "id": "1M8mcRywphqQ"
      }
    },
    {
      "cell_type": "markdown",
      "source": [
        "A bar chart is chosen to visualize the number of bookings with and without kids because it provides a clear and direct comparison between the two categories. The height of each bar represents the number of bookings, allowing for quick assessment of the proportion of bookings with and without children.\n"
      ],
      "metadata": {
        "id": "8agQvks0phqQ"
      }
    },
    {
      "cell_type": "markdown",
      "source": [
        "##### 2. What is/are the insight(s) found from the chart?"
      ],
      "metadata": {
        "id": "tgIPom80phqQ"
      }
    },
    {
      "cell_type": "markdown",
      "source": [
        "The bar chart reveals that the number of bookings without kids significantly exceeds the number of bookings with kids. This suggests that a larger portion of hotel guests are couples or individuals traveling without children.\n"
      ],
      "metadata": {
        "id": "Qp13pnNzphqQ"
      }
    },
    {
      "cell_type": "markdown",
      "source": [
        "##### 3. Will the gained insights help creating a positive business impact?\n",
        "Are there any insights that lead to negative growth? Justify with specific reason."
      ],
      "metadata": {
        "id": "JMzcOPDDphqR"
      }
    },
    {
      "cell_type": "markdown",
      "source": [
        "Yes, understanding the proportion of bookings with and without kids can help hotels tailor their services and marketing strategies to specific customer segments. For instance, hotels can offer family-friendly amenities and packages to attract more bookings with children or focus on creating a more adult-oriented atmosphere to cater to couples and individuals traveling without kids.\n",
        "\n",
        "There are no direct insights from this chart that suggest negative growth. However, it highlights the importance of understanding the demographics of hotel guests to optimize service offerings and marketing efforts. Failing to cater to the needs of specific customer segments could lead to missed opportunities for increased bookings and revenue."
      ],
      "metadata": {
        "id": "R4Ka1PC2phqR"
      }
    },
    {
      "cell_type": "markdown",
      "source": [
        "#### Chart - 11"
      ],
      "metadata": {
        "id": "x-EpHcCOp1ci"
      }
    },
    {
      "cell_type": "markdown",
      "source": [
        "**Total revenue generated by hotel type**"
      ],
      "metadata": {
        "id": "ejJSe_FV40sX"
      }
    },
    {
      "cell_type": "code",
      "source": [
        "# Chart - 11 visualization code\n",
        "# Calculate the total revenue generated by each hotel type\n",
        "revenue_by_hotel = hotel_df.groupby('hotel')['total_cost'].sum()\n",
        "print(revenue_by_hotel)\n",
        "\n",
        "# Create a bar plot to visualize the total revenue generated by each hotel type\n",
        "print('\\n')\n",
        "plt.pie(revenue_by_hotel, labels=revenue_by_hotel.index, autopct='%1.2f%%', startangle=270)\n",
        "plt.title('Total Revenue Generated by Hotel Type')\n",
        "plt.show()"
      ],
      "metadata": {
        "id": "mAQTIvtqp1cj"
      },
      "execution_count": null,
      "outputs": []
    },
    {
      "cell_type": "markdown",
      "source": [
        "##### 1. Why did you pick the specific chart?"
      ],
      "metadata": {
        "id": "X_VqEhTip1ck"
      }
    },
    {
      "cell_type": "markdown",
      "source": [
        "A pie chart is chosen to visualize the total revenue generated by each hotel type because it effectively displays the proportion of revenue contributed by each category. The size of each slice represents the percentage of total revenue, allowing for quick comparison and identification of the dominant revenue source.\n"
      ],
      "metadata": {
        "id": "-vsMzt_np1ck"
      }
    },
    {
      "cell_type": "markdown",
      "source": [
        "##### 2. What is/are the insight(s) found from the chart?"
      ],
      "metadata": {
        "id": "8zGJKyg5p1ck"
      }
    },
    {
      "cell_type": "markdown",
      "source": [
        "The pie chart reveals that City Hotels generate a significantly larger proportion of total revenue compared to Resort Hotels. This suggests that City Hotels might have higher occupancy rates, higher average daily rates, or a combination of both, leading to greater revenue generation.\n"
      ],
      "metadata": {
        "id": "ZYdMsrqVp1ck"
      }
    },
    {
      "cell_type": "markdown",
      "source": [
        "##### 3. Will the gained insights help creating a positive business impact?\n",
        "Are there any insights that lead to negative growth? Justify with specific reason."
      ],
      "metadata": {
        "id": "PVzmfK_Ep1ck"
      }
    },
    {
      "cell_type": "markdown",
      "source": [
        "Yes, understanding the revenue contribution of each hotel type can help hotels make informed decisions regarding resource allocation, marketing strategies, and expansion plans. For instance, hotels might consider investing more in City Hotels due to their higher revenue potential or explore ways to increase occupancy and revenue for Resort Hotels.\n",
        "\n",
        "There are no direct insights from this chart that suggest negative growth. However, it highlights the importance of optimizing revenue generation for both hotel types to maximize overall profitability. Focusing solely on City Hotels while neglecting Resort Hotels could lead to missed opportunities for growth and revenue diversification.\n"
      ],
      "metadata": {
        "id": "druuKYZpp1ck"
      }
    },
    {
      "cell_type": "markdown",
      "source": [
        "#### Chart - 12"
      ],
      "metadata": {
        "id": "n3dbpmDWp1ck"
      }
    },
    {
      "cell_type": "markdown",
      "source": [
        "**Average ADR by Hotel Type and Assigned Room Type**"
      ],
      "metadata": {
        "id": "CsGL-Thv5BAn"
      }
    },
    {
      "cell_type": "code",
      "source": [
        "# Chart - 12 visualization code\n",
        "# Calculate the average ADR by hotel type and assigned room type\n",
        "average_adr = hotel_df.groupby(['hotel', 'assigned_room_type'])['adr'].mean().unstack()\n",
        "\n",
        "# Create a heatmap\n",
        "plt.figure(figsize=(14, 3))\n",
        "sns.heatmap(average_adr, annot=True, cmap='plasma', fmt='.2f')\n",
        "plt.title('Average ADR by Hotel Type and Assigned Room Type')\n",
        "plt.xlabel('Assigned Room Type')\n",
        "plt.ylabel('Hotel Type')\n",
        "plt.show()"
      ],
      "metadata": {
        "id": "bwevp1tKp1ck"
      },
      "execution_count": null,
      "outputs": []
    },
    {
      "cell_type": "markdown",
      "source": [
        "##### 1. Why did you pick the specific chart?"
      ],
      "metadata": {
        "id": "ylSl6qgtp1ck"
      }
    },
    {
      "cell_type": "markdown",
      "source": [
        "A heatmap is chosen to visualize the average ADR by hotel type and assigned room type because it provides a clear and concise way to compare the average ADR across different room types and hotel types. The use of color intensity to represent the average ADR allows for quick identification of trends and patterns.\n"
      ],
      "metadata": {
        "id": "m2xqNkiQp1ck"
      }
    },
    {
      "cell_type": "markdown",
      "source": [
        "##### 2. What is/are the insight(s) found from the chart?"
      ],
      "metadata": {
        "id": "ZWILFDl5p1ck"
      }
    },
    {
      "cell_type": "markdown",
      "source": [
        "The heatmap reveals that the average ADR varies significantly across different room types and hotel types. For instance, suite rooms generally command a higher ADR compared to other room types, regardless of the hotel type. Additionally, city hotels tend to have a higher average ADR compared to resort hotels for most room types.\n"
      ],
      "metadata": {
        "id": "x-lUsV2mp1ck"
      }
    },
    {
      "cell_type": "markdown",
      "source": [
        "##### 3. Will the gained insights help creating a positive business impact?\n",
        "Are there any insights that lead to negative growth? Justify with specific reason."
      ],
      "metadata": {
        "id": "M7G43BXep1ck"
      }
    },
    {
      "cell_type": "markdown",
      "source": [
        "Yes, the gained insights can help create a positive business impact by informing pricing strategies and inventory management decisions. By understanding the average ADR for different room types and hotel types, hotels can optimize their pricing to maximize revenue. Additionally, hotels can adjust their inventory allocation based on the demand for different room types to improve occupancy rates.\n",
        "\n",
        "There are no direct insights from this chart that suggest negative growth. However, it is important to note that the average ADR is just one factor that influences booking decisions. Other factors, such as seasonality, location, and amenities, also play a significant role. Therefore, hotels should consider a holistic approach when making pricing and inventory decisions.\n"
      ],
      "metadata": {
        "id": "5wwDJXsLp1cl"
      }
    },
    {
      "cell_type": "markdown",
      "source": [
        "#### Chart - 13"
      ],
      "metadata": {
        "id": "Ag9LCva-p1cl"
      }
    },
    {
      "cell_type": "code",
      "source": [
        "# Chart - 13 visualization code\n",
        "filtered_hotel_df = hotel_df[(hotel_df['adr'] > 0) & (hotel_df['adr'] < 1000)]\n",
        "plt.figure(figsize=(8, 6))\n",
        "sns.scatterplot(y='Total_stay', x='adr', data=filtered_hotel_df, hue='hotel', alpha=0.7)\n",
        "plt.title('Scatter Plot of ADR vs. Total Stay')\n",
        "plt.ylabel('Total Stay (Nights)')\n",
        "plt.xlabel('Average Daily Rate (ADR)')\n",
        "plt.legend(title='Hotel Type')\n",
        "plt.grid(True)\n",
        "plt.show()"
      ],
      "metadata": {
        "id": "EUfxeq9-p1cl"
      },
      "execution_count": null,
      "outputs": []
    },
    {
      "cell_type": "code",
      "source": [
        "#Gaussian curves of total stays by hotel type\n",
        "\n",
        "# Calculate the mean and standard deviation of total stays for each hotel type\n",
        "city_stay_mean = hotel_df[hotel_df['hotel'] == 'City Hotel']['Total_stay'].mean()\n",
        "city_stay_std = hotel_df[hotel_df['hotel'] == 'City Hotel']['Total_stay'].std()\n",
        "\n",
        "resort_stay_mean = hotel_df[hotel_df['hotel'] == 'Resort Hotel']['Total_stay'].mean()\n",
        "resort_stay_std = hotel_df[hotel_df['hotel'] == 'Resort Hotel']['Total_stay'].std()\n",
        "\n",
        "# Generate x-values for the curves\n",
        "x_values = np.linspace(0, 15, 200)  # Adjust range as needed\n",
        "\n",
        "# Calculate y-values for the Gaussian curves\n",
        "city_curve = np.exp(-(x_values - city_stay_mean)**2 / (2 * city_stay_std**2)) / (city_stay_std * np.sqrt(2 * np.pi))\n",
        "resort_curve = np.exp(-(x_values - resort_stay_mean)**2 / (2 * resort_stay_std**2)) / (resort_stay_std * np.sqrt(2 * np.pi))\n",
        "\n",
        "# Plot the curves\n",
        "plt.plot(x_values, city_curve, label='City Hotel')\n",
        "plt.plot(x_values, resort_curve, label='Resort Hotel')\n",
        "\n",
        "plt.title('Gaussian Distribution of Total Stays by Hotel Type')\n",
        "plt.xlabel('Total Stay (Nights)')\n",
        "plt.ylabel('Probability Density')\n",
        "plt.legend()\n",
        "plt.grid(True)\n",
        "plt.show()\n"
      ],
      "metadata": {
        "id": "0VJdWdY_6fFn"
      },
      "execution_count": null,
      "outputs": []
    },
    {
      "cell_type": "markdown",
      "source": [
        "##### 1. Why did you pick the specific chart?"
      ],
      "metadata": {
        "id": "E6MkPsBcp1cl"
      }
    },
    {
      "cell_type": "markdown",
      "source": [
        "A scatter plot is chosen to visualize the relationship between ADR and total stay because it allows for the examination of individual data points and the identification of potential trends or patterns. The use of color-coding for different hotel types further enhances the analysis by allowing for comparison between the two categories.\n",
        "Gaussian curves are chosen to visualize the distribution of total stays by hotel type because they provide a clear representation of the probability density of different lengths of stay. This allows for comparison of the central tendency and spread of total stays for City Hotels and Resort Hotels.\n"
      ],
      "metadata": {
        "id": "V22bRsFWp1cl"
      }
    },
    {
      "cell_type": "markdown",
      "source": [
        "##### 2. What is/are the insight(s) found from the chart?"
      ],
      "metadata": {
        "id": "2cELzS2fp1cl"
      }
    },
    {
      "cell_type": "markdown",
      "source": [
        "The scatter plot reveals a general trend of longer stays being associated with lower ADRs, particularly for Resort Hotels. This suggests that guests staying for extended periods might be offered discounted rates or packages. Additionally, City Hotels exhibit a wider range of ADRs for similar lengths of stay, indicating greater variability in pricing strategies.\n",
        "The Gaussian curves confirm the earlier observation that Resort Hotels generally have longer average stays compared to City Hotels. The curves also illustrate the variability in stay lengths, with Resort Hotels exhibiting a wider spread compared to City Hotels.\n"
      ],
      "metadata": {
        "id": "ozQPc2_Ip1cl"
      }
    },
    {
      "cell_type": "markdown",
      "source": [
        "##### 3. Will the gained insights help creating a positive business impact?\n",
        "Are there any insights that lead to negative growth? Justify with specific reason."
      ],
      "metadata": {
        "id": "3MPXvC8up1cl"
      }
    },
    {
      "cell_type": "markdown",
      "source": [
        "Yes, understanding the distribution of total stays by hotel type can help hotels tailor their services and marketing strategies to specific customer segments. For instance, Resort Hotels can focus on offering amenities and activities that cater to longer stays, while City Hotels can emphasize convenience and efficiency for shorter stays.\n",
        "\n",
        "There are no direct insights from this chart that suggest negative growth. However, it highlights the importance of understanding the typical length of stay for each hotel type to optimize pricing, inventory management, and service offerings. Failing to cater to the specific needs of each customer segment could lead to lower occupancy rates and revenue.\n"
      ],
      "metadata": {
        "id": "GL8l1tdLp1cl"
      }
    },
    {
      "cell_type": "markdown",
      "source": [
        "#### Chart - 14 - Correlation Heatmap"
      ],
      "metadata": {
        "id": "NC_X3p0fY2L0"
      }
    },
    {
      "cell_type": "code",
      "source": [
        "# Correlation Heatmap visualization code\n",
        "# Calculate correlation matrix\n",
        "correlation_matrix = hotel_df.corr(numeric_only=True)\n",
        "\n",
        "# Plot correlation heatmap\n",
        "plt.figure(figsize=(14, 10))\n",
        "sns.heatmap(correlation_matrix, annot=True, cmap='coolwarm', fmt=\".1f\", linewidths=0.8)\n",
        "plt.title('Correlation Heatmap')\n",
        "plt.show()"
      ],
      "metadata": {
        "id": "xyC9zolEZNRQ"
      },
      "execution_count": null,
      "outputs": []
    },
    {
      "cell_type": "markdown",
      "source": [
        "##### 1. Why did you pick the specific chart?"
      ],
      "metadata": {
        "id": "UV0SzAkaZNRQ"
      }
    },
    {
      "cell_type": "markdown",
      "source": [
        "A correlation heatmap is chosen to visualize the relationships between numerical variables in the dataset because it provides a comprehensive overview of the correlations between all pairs of variables. The use of color intensity to represent the strength and direction of correlations allows for quick identification of potential relationships and patterns.\n"
      ],
      "metadata": {
        "id": "DVPuT8LYZNRQ"
      }
    },
    {
      "cell_type": "markdown",
      "source": [
        "##### 2. What is/are the insight(s) found from the chart?"
      ],
      "metadata": {
        "id": "YPEH6qLeZNRQ"
      }
    },
    {
      "cell_type": "markdown",
      "source": [
        "The correlation heatmap reveals several interesting insights:\n",
        "- There is a strong positive correlation between lead time and the number of days in waiting list, suggesting that bookings made further in advance are more likely to be placed on a waiting list.\n",
        "- There is a moderate positive correlation between the number of adults and the number of children, indicating that larger groups often include both adults and children.\n",
        "- There is a weak negative correlation between lead time and the average daily rate (ADR), implying that bookings made closer to the arrival date might have slightly higher ADRs.\n",
        "- There is a weak positive correlation between the total number of special requests and the total stay, suggesting that guests with longer stays tend to make more special requests.\n"
      ],
      "metadata": {
        "id": "bfSqtnDqZNRR"
      }
    },
    {
      "cell_type": "markdown",
      "source": [
        "  Also, The gained insights from the correlation heatmap can help create a positive business impact by informing various aspects of hotel management:\n",
        "- **Pricing and Inventory Management:** Understanding the relationship between lead time and ADR can help hotels optimize pricing strategies based on booking lead times. The correlation between lead time and waiting list days can also inform inventory management decisions to minimize wait times.\n",
        "- **Targeted Marketing and Services:** The correlation between adults and children can help hotels tailor marketing campaigns and services to families. The correlation between special requests and total stay can guide hotels in anticipating and fulfilling the needs of long-stay guests.\n"
      ],
      "metadata": {
        "id": "TqNr0h12DIfc"
      }
    },
    {
      "cell_type": "markdown",
      "source": [
        "#### Chart - 15 - Pair Plot"
      ],
      "metadata": {
        "id": "q29F0dvdveiT"
      }
    },
    {
      "cell_type": "code",
      "source": [
        "# Pair Plot visualization code\n",
        "# Select numerical columns for pair plot\n",
        "numeric_columns = ['lead_time', 'is_canceled', 'stays_in_weekend_nights', 'stays_in_week_nights', 'adults',\n",
        "                   'children', 'babies', 'previous_cancellations', 'previous_bookings_not_canceled',\n",
        "                   'booking_changes', 'days_in_waiting_list', 'adr', 'required_car_parking_spaces',\n",
        "                   'total_of_special_requests', 'total_cost' ]\n",
        "\n",
        "# Filter the data to include only numerical columns\n",
        "numeric_data = hotel_df[numeric_columns]\n",
        "\n",
        "# Create the pair plot\n",
        "sns.pairplot(numeric_data,corner=True)\n",
        "# Set title\n",
        "plt.title('Pair Plot of Numerical Variables')\n",
        "\n",
        "plt.show()"
      ],
      "metadata": {
        "id": "sNmzPzG7-Ihm"
      },
      "execution_count": null,
      "outputs": []
    },
    {
      "cell_type": "markdown",
      "source": [
        "##### 1. Why did you pick the specific chart?"
      ],
      "metadata": {
        "id": "EXh0U9oCveiU"
      }
    },
    {
      "cell_type": "markdown",
      "source": [
        "A pair plot is chosen to visualize the relationships between pairs of numerical variables because it provides a comprehensive overview of the distributions and correlations between all possible pairs. Each diagonal subplot displays the distribution of a single variable, while the off-diagonal subplots show scatter plots of pairs of variables, allowing for quick identification of potential relationships and patterns.\n"
      ],
      "metadata": {
        "id": "eMmPjTByveiU"
      }
    },
    {
      "cell_type": "markdown",
      "source": [
        "##### 2. What is/are the insight(s) found from the chart?"
      ],
      "metadata": {
        "id": "22aHeOlLveiV"
      }
    },
    {
      "cell_type": "markdown",
      "source": [
        "The pair plot reveals several interesting insights:\n",
        "- **Lead Time and Cancellations:** There is a positive correlation between lead time and cancellations, indicating that bookings made further in advance are more likely to be canceled.\n",
        "- **Stay Duration and Weekends:** There is a positive correlation between the number of weekend nights and the total length of stay, suggesting that guests often include weekends in their bookings.\n",
        "- **Adults and Children:** There is a positive correlation between the number of adults and the number of children, indicating that larger groups often include both adults and children.\n",
        "- **ADR and Total Cost:** There is a strong positive correlation between the average daily rate (ADR) and the total cost, as expected.\n",
        "\n",
        "Also, The gained insights from the pair plot can help create a positive business impact by informing various aspects of hotel management:\n",
        "- **Cancellation Management:** Understanding the relationship between lead time and cancellations can help hotels implement policies and strategies to reduce cancellations, such as offering non-refundable rates or requiring deposits for bookings made far in advance.\n",
        "- **Pricing and Promotions:** The correlation between stay duration and weekends can inform pricing and promotional strategies, such as offering weekend packages or discounts for longer stays.\n",
        "- **Family-Friendly Services:** The correlation between adults and children can help hotels tailor marketing campaigns and services to families, such as offering family rooms or kid-friendly amenities.\n"
      ],
      "metadata": {
        "id": "uPQ8RGwHveiV"
      }
    },
    {
      "cell_type": "markdown",
      "source": [
        "## **5. Solution to Business Objective**"
      ],
      "metadata": {
        "id": "JcMwzZxoAimU"
      }
    },
    {
      "cell_type": "markdown",
      "source": [
        "#### What do you suggest the client to achieve Business Objective ?\n",
        "Explain Briefly."
      ],
      "metadata": {
        "id": "8G2x9gOozGDZ"
      }
    },
    {
      "cell_type": "markdown",
      "source": [
        "Based on the analysis conducted, here are some suggestions for the client to achieve their business objectives:\n",
        "\n",
        "**1. Optimize Pricing and Inventory Management:**\n",
        "\n",
        "* Implement dynamic pricing strategies based on demand, seasonality, and booking lead time. Consider offering discounts for longer stays and non-refundable rates for bookings made far in advance to reduce cancellations.\n",
        "* Utilize revenue management systems to forecast demand and adjust inventory allocation accordingly. This can help maximize occupancy rates and revenue.\n",
        "\n",
        "**2. Enhance Customer Experience and Loyalty:**\n",
        "\n",
        "* Personalize the guest experience by tailoring services and amenities to specific customer segments. For instance, offer family-friendly activities and packages for families with children, and provide business travelers with convenient amenities and services.\n",
        "* Implement a loyalty program to reward repeat guests and encourage direct bookings. This can help reduce reliance on third-party booking platforms and increase customer retention.\n",
        "\n",
        "**3. Target Marketing and Promotions:**\n",
        "\n",
        "* Develop targeted marketing campaigns based on customer demographics, booking behavior, and preferences. Utilize social media, email marketing, and search engine optimization to reach potential guests.\n",
        "* Offer special promotions and packages to attract specific customer segments, such as weekend getaways for couples or family vacations during school holidays.\n",
        "\n",
        "**4. Improve Operational Efficiency:**\n",
        "\n",
        "* Streamline check-in and check-out processes to reduce wait times and enhance guest satisfaction. Utilize technology to automate tasks and improve communication between staff.\n",
        "* Analyze guest feedback and address any recurring issues promptly. This can help identify areas for improvement and enhance the overall guest experience.\n",
        "\n",
        "**5. Monitor and Adapt:**\n",
        "\n",
        "* Continuously monitor key performance indicators (KPIs) such as occupancy rates, ADR, revenue per available room (RevPAR), and guest satisfaction scores.\n",
        "* Adapt strategies and tactics based on market trends, competitor analysis, and guest feedback to stay competitive and achieve sustainable growth.\n",
        "\n",
        "By implementing these recommendations, the client can optimize their operations, enhance the guest experience, and achieve their business objectives of increasing revenue and profitability.\n"
      ],
      "metadata": {
        "id": "pASKb0qOza21"
      }
    },
    {
      "cell_type": "markdown",
      "source": [
        "# **Conclusion**"
      ],
      "metadata": {
        "id": "gCX9965dhzqZ"
      }
    },
    {
      "cell_type": "markdown",
      "source": [
        "This analysis has provided valuable insights into the factors that influence hotel bookings and revenue. By understanding these factors, hotels can make informed decisions to optimize their pricing, inventory management, marketing, and customer service strategies.\n",
        "\n",
        "The key takeaways from this analysis include:\n",
        "\n",
        "* The importance of lead time in predicting cancellations and adjusting pricing.\n",
        "* The impact of seasonality and booking channels on occupancy rates and ADR.\n",
        "* The need to tailor services and amenities to specific customer segments.\n",
        "* The value of data-driven decision-making in the hospitality industry.\n",
        "\n",
        "By leveraging these insights and implementing the recommended strategies, hotels can enhance the guest experience, increase revenue, and achieve sustainable growth in a competitive market.\n"
      ],
      "metadata": {
        "id": "Fjb1IsQkh3yE"
      }
    },
    {
      "cell_type": "markdown",
      "source": [
        "### ***Hurrah! You have successfully completed your EDA Capstone Project !!!***"
      ],
      "metadata": {
        "id": "gIfDvo9L0UH2"
      }
    }
  ]
}